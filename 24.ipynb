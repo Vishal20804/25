{
 "cells": [
  {
   "cell_type": "code",
   "execution_count": null,
   "id": "edf57241-bcc5-4328-89e0-6f56f4d3f4e0",
   "metadata": {},
   "outputs": [],
   "source": [
    "#ans:1\n",
    "GET and POST are two commonly used methods in the Hypertext Transfer Protocol (HTTP) for sending data between a client (such as a web browser) and a server. They serve different purposes and have distinct characteristics.\n",
    "\n",
    "GET method:\n",
    "The GET method is used to retrieve or request data from a server. When a client sends a GET request, it includes parameters in the URL's query string, typically visible in the address bar of a web browser. The server processes the request and responds with the requested data, which is usually sent back in the body of the response.\n",
    "POST method:\n",
    "The POST method is used to submit or send data to the server to be processed. The data sent with a POST request is included in the body of the request rather than in the URL. It is commonly used for submitting forms, uploading files, or making changes to server-side resources"
   ]
  },
  {
   "cell_type": "code",
   "execution_count": null,
   "id": "49d64095-7a3d-4433-8738-04b7ed720ce2",
   "metadata": {},
   "outputs": [],
   "source": [
    "#ans:2\n",
    "\n",
    "In the Flask web framework, the request object is used to handle incoming client requests and retrieve data from those requests. It provides access to the data sent by the client, such as form data, query parameters, headers, and more."
   ]
  },
  {
   "cell_type": "code",
   "execution_count": null,
   "id": "9fbb5c9b-d87a-4c13-a575-7d806135ee5d",
   "metadata": {},
   "outputs": [],
   "source": [
    "#ans:3\n",
    "The redirect() function in Flask is used to perform a redirection to a different URL or route within a Flask application. It allows you to redirect the user's browser to a different page, either within your application or to an external URL."
   ]
  },
  {
   "cell_type": "code",
   "execution_count": null,
   "id": "0406a088-0f56-46f4-af5f-0e95787c59f1",
   "metadata": {},
   "outputs": [],
   "source": [
    "#ans:4\n",
    "In Flask, templates are files that contain the structure and layout of the web pages you want to generate dynamically. Templates separate the presentation logic from the application logic, allowing you to create dynamic HTML pages that can be easily customized and rendered with different data."
   ]
  },
  {
   "cell_type": "code",
   "execution_count": null,
   "id": "2881cca3-aa2f-4ccf-9f81-96e8acd1a22e",
   "metadata": {},
   "outputs": [],
   "source": [
    "#ans:5\n"
   ]
  }
 ],
 "metadata": {
  "kernelspec": {
   "display_name": "Python 3 (ipykernel)",
   "language": "python",
   "name": "python3"
  },
  "language_info": {
   "codemirror_mode": {
    "name": "ipython",
    "version": 3
   },
   "file_extension": ".py",
   "mimetype": "text/x-python",
   "name": "python",
   "nbconvert_exporter": "python",
   "pygments_lexer": "ipython3",
   "version": "3.10.8"
  }
 },
 "nbformat": 4,
 "nbformat_minor": 5
}
